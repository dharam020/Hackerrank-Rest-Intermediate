{
 "cells": [
  {
   "cell_type": "code",
   "execution_count": 23,
   "metadata": {},
   "outputs": [],
   "source": [
    "import requests\n",
    "import json"
   ]
  },
  {
   "cell_type": "code",
   "execution_count": 24,
   "metadata": {},
   "outputs": [],
   "source": [
    "competition='English Premier League'\n",
    "year=2014"
   ]
  },
  {
   "cell_type": "code",
   "execution_count": 25,
   "metadata": {},
   "outputs": [],
   "source": [
    "## First restapi problem"
   ]
  },
  {
   "cell_type": "code",
   "execution_count": 26,
   "metadata": {},
   "outputs": [
    {
     "name": "stdout",
     "output_type": "stream",
     "text": [
      "73\n"
     ]
    }
   ],
   "source": [
    "comp_url=\"https://jsonmock.hackerrank.com/api/football_competitions?name=\"+str(competition)+\"&year=\"+str(year)\n",
    "comp_data=requests.get(comp_url).json()\n",
    "team=comp_data['data'][0]['winner']\n",
    "url1 = \"https://jsonmock.hackerrank.com/api/football_matches?competition=\"+str(competition)+\"&year=\" + str(year)+\"&team1=\"+str(team)\n",
    "url2 = \"https://jsonmock.hackerrank.com/api/football_matches?competition=\"+str(competition)+\"&year=\" + str(year) +\"&team2=\"+str(team)\n",
    "response1 = requests.get(url1)\n",
    "result1 = json.loads(response1.content)\n",
    "response2 = requests.get(url2)\n",
    "result2 = json.loads(response2.content)\n",
    "    # print(result1) \n",
    "    # print(result2)\n",
    "curr_1 = 1\n",
    "total_page_url_1 = result1['total_pages']\n",
    "curr_2 = 1\n",
    "total_page_url_2 = result2['total_pages']\n",
    "\n",
    "total = 0\n",
    "while curr_1 <= total_page_url_1:\n",
    "    url1 = \"https://jsonmock.hackerrank.com/api/football_matches?competition={0}&year={1}&team1={2}&page={3}\".format(competition,year,team,curr_1)\n",
    "    response1 = requests.get(url1)\n",
    "    result1 = json.loads(response1.content)\n",
    "    for i in result1['data']:\n",
    "        if i['team1'].upper() == team.upper():\n",
    "            total += int(i['team1goals'])\n",
    "    curr_1 += 1\n",
    "    # print(total)\n",
    "\n",
    "while curr_2 <= total_page_url_2:\n",
    "    url2 = \"https://jsonmock.hackerrank.com/api/football_matches?competition={0}&year={1}&team2={2}&page={3}\".format(competition,year,team,curr_2)\n",
    "    response2 = requests.get(url2)\n",
    "    result2 = json.loads(response2.content)\n",
    "    for i in result2['data']:\n",
    "        if i['team2'].upper() == team.upper():\n",
    "            total += int(i['team2goals'])\n",
    "    curr_2 += 1\n",
    "print(total)"
   ]
  },
  {
   "cell_type": "code",
   "execution_count": 27,
   "metadata": {},
   "outputs": [],
   "source": [
    "##Second Restapi problem:"
   ]
  },
  {
   "cell_type": "code",
   "execution_count": 28,
   "metadata": {},
   "outputs": [
    {
     "name": "stdout",
     "output_type": "stream",
     "text": [
      "502\n"
     ]
    }
   ],
   "source": [
    "url1 = \"https://jsonmock.hackerrank.com/api/football_matches?year=\" + str(year)\n",
    "response1 = requests.get(url1)\n",
    "result1 = json.loads(response1.content)\n",
    "curr_1 = 1\n",
    "total_page_url_1 = result1['total_pages']\n",
    "total = 0\n",
    "for i in range(0,12):\n",
    "    url1 = \"https://jsonmock.hackerrank.com/api/football_matches?year={0}&team1goals={1}&team2goals={1}\".format(year,i,i)\n",
    "    response1 = requests.get(url1)\n",
    "    result1 = json.loads(response1.content)\n",
    "        #print(result1['total'])\n",
    "    total += result1['total']\n",
    "print(total)"
   ]
  },
  {
   "cell_type": "code",
   "execution_count": null,
   "metadata": {},
   "outputs": [],
   "source": []
  }
 ],
 "metadata": {
  "kernelspec": {
   "display_name": "Python 3",
   "language": "python",
   "name": "python3"
  },
  "language_info": {
   "codemirror_mode": {
    "name": "ipython",
    "version": 3
   },
   "file_extension": ".py",
   "mimetype": "text/x-python",
   "name": "python",
   "nbconvert_exporter": "python",
   "pygments_lexer": "ipython3",
   "version": "3.8.8"
  }
 },
 "nbformat": 4,
 "nbformat_minor": 4
}
